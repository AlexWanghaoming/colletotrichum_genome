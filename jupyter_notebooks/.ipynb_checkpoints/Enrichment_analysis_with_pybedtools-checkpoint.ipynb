{
 "cells": [
  {
   "cell_type": "code",
   "execution_count": 1,
   "metadata": {},
   "outputs": [],
   "source": [
    "import pandas as pd\n",
    "import numpy as np\n",
    "from pybedtools import BedTool\n",
    "import matplotlib.pyplot as plt\n",
    "from matplotlib.backends.backend_pdf import PdfPages\n",
    "from matplotlib.pyplot import figure\n",
    "import glob\n",
    "import os"
   ]
  },
  {
   "cell_type": "code",
   "execution_count": 2,
   "metadata": {},
   "outputs": [
    {
     "name": "stdout",
     "output_type": "stream",
     "text": [
      "# packages in environment at /home/Pam/bin/anaconda3/envs/pybedtools:\n",
      "#\n",
      "# Name                    Version                   Build  Channel\n",
      "_libgcc_mutex             0.1                 conda_forge    conda-forge\n",
      "_openmp_mutex             4.5                       0_gnu    conda-forge\n",
      "attrs                     19.3.0                     py_0    conda-forge\n",
      "backcall                  0.1.0                      py_0    conda-forge\n",
      "bedtools                  2.29.2               hc088bd4_0    bioconda\n",
      "biopython                 1.76             py36h516909a_0    conda-forge\n",
      "bleach                    3.1.0                      py_0    conda-forge\n",
      "bzip2                     1.0.8                h516909a_2    conda-forge\n",
      "ca-certificates           2019.11.28           hecc5488_0    conda-forge\n",
      "certifi                   2019.11.28       py36h9f0ad1d_1    conda-forge\n",
      "curl                      7.65.3               hf8cf82a_0    conda-forge\n",
      "cycler                    0.10.0                     py_2    conda-forge\n",
      "dbus                      1.13.6               he372182_0    conda-forge\n",
      "decorator                 4.4.1                      py_0    conda-forge\n",
      "defusedxml                0.6.0                      py_0    conda-forge\n",
      "entrypoints               0.3                   py36_1000    conda-forge\n",
      "expat                     2.2.5             he1b5a44_1004    conda-forge\n",
      "fontconfig                2.13.1            h86ecdb6_1001    conda-forge\n",
      "freetype                  2.10.0               he983fc9_1    conda-forge\n",
      "gettext                   0.19.8.1          hc5be6a0_1002    conda-forge\n",
      "glib                      2.58.3          py36h6f030ca_1002    conda-forge\n",
      "gst-plugins-base          1.14.5               h0935bb2_0    conda-forge\n",
      "gstreamer                 1.14.5               h36ae1b5_0    conda-forge\n",
      "icu                       64.2                 he1b5a44_1    conda-forge\n",
      "ipykernel                 5.1.3            py36h5ca1d4c_0    conda-forge\n",
      "ipython                   7.11.1           py36h5ca1d4c_0    conda-forge\n",
      "ipython_genutils          0.2.0                      py_1    conda-forge\n",
      "ipywidgets                7.5.1                      py_0    conda-forge\n",
      "jedi                      0.15.2                   py36_0    conda-forge\n",
      "jinja2                    2.10.3                     py_0    conda-forge\n",
      "jpeg                      9c                h14c3975_1001    conda-forge\n",
      "jsonschema                2.6.0                 py36_1002    conda-forge\n",
      "jupyter                   1.0.0                      py_2    conda-forge\n",
      "jupyter_client            5.3.4                    py36_1    conda-forge\n",
      "jupyter_console           6.0.0                      py_0    conda-forge\n",
      "jupyter_core              4.6.1                    py36_0    conda-forge\n",
      "kiwisolver                1.1.0            py36hc9558a2_0    conda-forge\n",
      "krb5                      1.16.4               h2fd8d38_0    conda-forge\n",
      "ld_impl_linux-64          2.33.1               h53a641e_7    conda-forge\n",
      "libblas                   3.8.0               14_openblas    conda-forge\n",
      "libcblas                  3.8.0               14_openblas    conda-forge\n",
      "libclang                  9.0.1           default_hde54327_0    conda-forge\n",
      "libcurl                   7.65.3               hda55be3_0    conda-forge\n",
      "libdeflate                1.3                  h516909a_0    conda-forge\n",
      "libedit                   3.1.20170329      hf8c457e_1001    conda-forge\n",
      "libffi                    3.2.1             he1b5a44_1006    conda-forge\n",
      "libgcc-ng                 9.2.0                h24d8f2e_2    conda-forge\n",
      "libgfortran-ng            7.3.0                hdf63c60_4    conda-forge\n",
      "libgomp                   9.2.0                h24d8f2e_2    conda-forge\n",
      "libiconv                  1.15              h516909a_1005    conda-forge\n",
      "liblapack                 3.8.0               14_openblas    conda-forge\n",
      "libllvm9                  9.0.1                hc9558a2_0    conda-forge\n",
      "libopenblas               0.3.7                h5ec1e0e_6    conda-forge\n",
      "libpng                    1.6.37               hed695b0_0    conda-forge\n",
      "libsodium                 1.0.17               h516909a_0    conda-forge\n",
      "libssh2                   1.8.2                h22169c7_2    conda-forge\n",
      "libstdcxx-ng              9.2.0                hdf63c60_2    conda-forge\n",
      "libuuid                   2.32.1            h14c3975_1000    conda-forge\n",
      "libxcb                    1.13              h14c3975_1002    conda-forge\n",
      "libxkbcommon              0.9.1                hebb1f50_0    conda-forge\n",
      "libxml2                   2.9.10               hee79883_0    conda-forge\n",
      "markupsafe                1.1.1            py36h516909a_0    conda-forge\n",
      "matplotlib                3.1.2                    py36_1    conda-forge\n",
      "matplotlib-base           3.1.2            py36h250f245_1    conda-forge\n",
      "mistune                   0.8.4           py36h516909a_1000    conda-forge\n",
      "more-itertools            8.1.0                      py_0    conda-forge\n",
      "nbconvert                 5.6.1                    py36_0    conda-forge\n",
      "nbformat                  5.0.3                      py_0    conda-forge\n",
      "ncurses                   6.1               hf484d3e_1002    conda-forge\n",
      "notebook                  6.0.1                    py36_0    conda-forge\n",
      "nspr                      4.24                 he1b5a44_0    conda-forge\n",
      "nss                       3.47                 he751ad9_0    conda-forge\n",
      "numpy                     1.17.3           py36h95a1406_0    conda-forge\n",
      "openssl                   1.1.1e               h516909a_0    conda-forge\n",
      "pandas                    0.25.3           py36hb3f55d8_0    conda-forge\n",
      "pandoc                    2.9.1.1                       0    conda-forge\n",
      "pandocfilters             1.4.2                      py_1    conda-forge\n",
      "parso                     0.5.2                      py_0    conda-forge\n",
      "patsy                     0.5.1                      py_0    conda-forge\n",
      "pcre                      8.43                 he1b5a44_0    conda-forge\n",
      "pexpect                   4.7.0                    py36_0    conda-forge\n",
      "pickleshare               0.7.5                 py36_1000    conda-forge\n",
      "pip                       19.3.1                   py36_0    conda-forge\n",
      "prometheus_client         0.7.1                      py_0    conda-forge\n",
      "prompt_toolkit            2.0.10                     py_0    conda-forge\n",
      "pthread-stubs             0.4               h14c3975_1001    conda-forge\n",
      "ptyprocess                0.6.0                   py_1001    conda-forge\n",
      "pybedtools                0.8.1            py36he513fc3_0    bioconda\n",
      "pygments                  2.5.2                      py_0    conda-forge\n",
      "pyparsing                 2.4.6                      py_0    conda-forge\n",
      "pyqt                      5.12.3           py36hcca6a23_1    conda-forge\n",
      "pyqt5-sip                 4.19.18                  pypi_0    pypi\n",
      "pyqtwebengine             5.12.1                   pypi_0    pypi\n",
      "pysam                     0.15.3           py36hbcae180_3    bioconda\n",
      "python                    3.6.7             h357f687_1006    conda-forge\n",
      "python-dateutil           2.8.1                      py_0    conda-forge\n",
      "python_abi                3.6                     1_cp36m    conda-forge\n",
      "pytz                      2019.3                     py_0    conda-forge\n",
      "pyzmq                     18.1.1           py36h1768529_0    conda-forge\n",
      "qt                        5.12.5               hd8c4c69_1    conda-forge\n",
      "qtconsole                 4.6.0                      py_0    conda-forge\n",
      "readline                  8.0                  hf8c457e_0    conda-forge\n",
      "scipy                     1.4.1            py36h921218d_0    conda-forge\n",
      "seaborn                   0.9.0                      py_2    conda-forge\n",
      "send2trash                1.5.0                      py_0    conda-forge\n",
      "setuptools                45.0.0                   py36_1    conda-forge\n",
      "six                       1.14.0                   py36_0    conda-forge\n",
      "sqlite                    3.30.1               hcee41ef_0    conda-forge\n",
      "statsmodels               0.10.2           py36hc1659b7_0    conda-forge\n",
      "terminado                 0.8.3                    py36_0    conda-forge\n",
      "testpath                  0.4.4                      py_0    conda-forge\n",
      "tk                        8.6.10               hed695b0_0    conda-forge\n",
      "tornado                   6.0.3            py36h516909a_0    conda-forge\n",
      "traitlets                 4.3.3                    py36_0    conda-forge\n",
      "wcwidth                   0.1.8                      py_0    conda-forge\n",
      "webencodings              0.5.1                      py_1    conda-forge\n",
      "wheel                     0.33.6                   py36_0    conda-forge\n",
      "widgetsnbextension        3.5.1                    py36_0    conda-forge\n",
      "xorg-libxau               1.0.9                h14c3975_0    conda-forge\n",
      "xorg-libxdmcp             1.1.3                h516909a_0    conda-forge\n",
      "xz                        5.2.4             h14c3975_1001    conda-forge\n",
      "zeromq                    4.3.2                he1b5a44_2    conda-forge\n",
      "zipp                      1.0.0                      py_0    conda-forge\n",
      "zlib                      1.2.11            h516909a_1006    conda-forge\n"
     ]
    }
   ],
   "source": [
    "%%bash\n",
    "#List packages in conda environment\n",
    "conda list -n pybedtools"
   ]
  },
  {
   "cell_type": "code",
   "execution_count": 5,
   "metadata": {},
   "outputs": [],
   "source": [
    "def run_randomstats(files,genomefile,intervalfile):\n",
    "    #Run bedtool randomstats to get stats of overlap between multiple bed files in files list against a specific interval file\n",
    "    a = BedTool(intervalfile)\n",
    "    #Use pythonbedtools to parallelize shuffling of intervals to get distribution if just by random (median of 10000 random shuffles)\n",
    "    stats=[]\n",
    "    for i in files:      \n",
    "        b = BedTool(i)\n",
    "        #Adding the chrom:True function will restrict shuffling of a specific feature within the same chromosome\n",
    "        results = b.randomstats(a, iterations=10000, processes=96,shuffle_kwargs={\"g\":genomefile,\"chrom\":True},include_distribution=True)\n",
    "        stats.append(results)\n",
    "    return stats\n",
    "\n",
    "def write_stats(es_dic,filename):\n",
    "    #To write output of run_randomstats to csv file\n",
    "    df = pd.DataFrame(es_dic)\n",
    "    df2 = df[[\"file_a\",\"file_b\",\"iterations\",\"actual\",\"self\",\"other\",\"frac randomized above actual\", \"frac randomized below actual\",\"median randomized\", \"normalized\", \"percentile\", \"lower_2.5th\", \"upper_97.5th\"]]\n",
    "    #P-value is given by the percent of the randomized population that is greater than the observed\n",
    "    df2[\"Pvalue\"]=(100-df2[\"percentile\"])/100\n",
    "    df2.to_csv(filename,index=None)"
   ]
  },
  {
   "cell_type": "code",
   "execution_count": 3,
   "metadata": {
    "scrolled": false
   },
   "outputs": [
    {
     "data": {
      "text/plain": [
       "['/home/Pam/Plots/repeats_bedops/Nara/Nara.I.Copia.sub.bed.sort.num',\n",
       " '/home/Pam/Plots/repeats_bedops/Nara/Nara.I.Gypsy.sub.bed.sort.num',\n",
       " '/home/Pam/Plots/repeats_bedops/Nara/Nara.II.CACTA.sub.bed.sort.num',\n",
       " '/home/Pam/Plots/repeats_bedops/Nara/Nara.II.hAT.sub.bed.sort.num',\n",
       " '/home/Pam/Plots/repeats_bedops/Nara/Nara.II.Helitron.sub.bed.sort.num',\n",
       " '/home/Pam/Plots/repeats_bedops/Nara/Nara.II.MuDR.sub.bed.sort.num',\n",
       " '/home/Pam/Plots/repeats_bedops/Nara/Nara.II.PiggyBac.sub.bed.sort.num',\n",
       " '/home/Pam/Plots/repeats_bedops/Nara/Nara.II.TcMar.sub.bed.sort.num',\n",
       " '/home/Pam/Plots/repeats_bedops/Nara/Nara.I.LINE.sub.bed.sort.num',\n",
       " '/home/Pam/Plots/repeats_bedops/Nara/Nara.100k.95pc.subtel.renamed.bed.num',\n",
       " '/home/Pam/Plots/repeats_bedops/Nara/Nara.100k.99pc.subtel.renamed.bed.num',\n",
       " '/home/Pam/Plots/repeats_bedops/Nara/Nara.100k.97.5pc.subtel.renamed.bed.num']"
      ]
     },
     "execution_count": 3,
     "metadata": {},
     "output_type": "execute_result"
    }
   ],
   "source": [
    "#Files is the list of files of features that we want to check overlaps with\n",
    "files = glob.glob(\"/home/Pam/Plots/repeats_bedops/Nara/*.num\")\n",
    "files"
   ]
  },
  {
   "cell_type": "code",
   "execution_count": 9,
   "metadata": {},
   "outputs": [],
   "source": [
    "#Genomefile: bedtools genome file\n",
    "genomefile = \"/home/Pam/Plots/repeats_bedops/Nara.genome\"\n",
    "#Interval file: bed file of features of interest (in this case CGSC accessory regions in Nara gc5)\n",
    "intervalfile = \"../additional_data/Nara/Nara.accessory.regions.merge.bed\""
   ]
  },
  {
   "cell_type": "code",
   "execution_count": 10,
   "metadata": {},
   "outputs": [
    {
     "name": "stderr",
     "output_type": "stream",
     "text": [
      "/home/Pam/bin/anaconda3/envs/pybedtools/lib/python3.6/site-packages/pybedtools/bedtool.py:2794: FutureWarning: Using a non-tuple sequence for multidimensional indexing is deprecated; use `arr[tuple(seq)]` instead of `arr[seq]`. In the future this will be interpreted as an array index, `arr[np.array(seq)]`, which will result either in an error or a different result.\n",
      "  pct = (np.mean(a_len[idx]) / n) * 100.0\n",
      "/home/Pam/bin/anaconda3/envs/pybedtools/lib/python3.6/site-packages/pybedtools/bedtool.py:2794: FutureWarning: Using a non-tuple sequence for multidimensional indexing is deprecated; use `arr[tuple(seq)]` instead of `arr[seq]`. In the future this will be interpreted as an array index, `arr[np.array(seq)]`, which will result either in an error or a different result.\n",
      "  pct = (np.mean(a_len[idx]) / n) * 100.0\n",
      "/home/Pam/bin/anaconda3/envs/pybedtools/lib/python3.6/site-packages/pybedtools/bedtool.py:2794: FutureWarning: Using a non-tuple sequence for multidimensional indexing is deprecated; use `arr[tuple(seq)]` instead of `arr[seq]`. In the future this will be interpreted as an array index, `arr[np.array(seq)]`, which will result either in an error or a different result.\n",
      "  pct = (np.mean(a_len[idx]) / n) * 100.0\n",
      "/home/Pam/bin/anaconda3/envs/pybedtools/lib/python3.6/site-packages/pybedtools/bedtool.py:2794: FutureWarning: Using a non-tuple sequence for multidimensional indexing is deprecated; use `arr[tuple(seq)]` instead of `arr[seq]`. In the future this will be interpreted as an array index, `arr[np.array(seq)]`, which will result either in an error or a different result.\n",
      "  pct = (np.mean(a_len[idx]) / n) * 100.0\n",
      "/home/Pam/bin/anaconda3/envs/pybedtools/lib/python3.6/site-packages/pybedtools/bedtool.py:2836: RuntimeWarning: invalid value encountered in double_scalars\n",
      "  normalized = actual / med_count\n",
      "/home/Pam/bin/anaconda3/envs/pybedtools/lib/python3.6/site-packages/pybedtools/bedtool.py:2794: FutureWarning: Using a non-tuple sequence for multidimensional indexing is deprecated; use `arr[tuple(seq)]` instead of `arr[seq]`. In the future this will be interpreted as an array index, `arr[np.array(seq)]`, which will result either in an error or a different result.\n",
      "  pct = (np.mean(a_len[idx]) / n) * 100.0\n",
      "/home/Pam/bin/anaconda3/envs/pybedtools/lib/python3.6/site-packages/pybedtools/bedtool.py:2836: RuntimeWarning: invalid value encountered in double_scalars\n",
      "  normalized = actual / med_count\n",
      "/home/Pam/bin/anaconda3/envs/pybedtools/lib/python3.6/site-packages/pybedtools/bedtool.py:2794: FutureWarning: Using a non-tuple sequence for multidimensional indexing is deprecated; use `arr[tuple(seq)]` instead of `arr[seq]`. In the future this will be interpreted as an array index, `arr[np.array(seq)]`, which will result either in an error or a different result.\n",
      "  pct = (np.mean(a_len[idx]) / n) * 100.0\n",
      "/home/Pam/bin/anaconda3/envs/pybedtools/lib/python3.6/site-packages/pybedtools/bedtool.py:2836: RuntimeWarning: invalid value encountered in double_scalars\n",
      "  normalized = actual / med_count\n",
      "/home/Pam/bin/anaconda3/envs/pybedtools/lib/python3.6/site-packages/pybedtools/bedtool.py:2794: FutureWarning: Using a non-tuple sequence for multidimensional indexing is deprecated; use `arr[tuple(seq)]` instead of `arr[seq]`. In the future this will be interpreted as an array index, `arr[np.array(seq)]`, which will result either in an error or a different result.\n",
      "  pct = (np.mean(a_len[idx]) / n) * 100.0\n",
      "/home/Pam/bin/anaconda3/envs/pybedtools/lib/python3.6/site-packages/pybedtools/bedtool.py:2794: FutureWarning: Using a non-tuple sequence for multidimensional indexing is deprecated; use `arr[tuple(seq)]` instead of `arr[seq]`. In the future this will be interpreted as an array index, `arr[np.array(seq)]`, which will result either in an error or a different result.\n",
      "  pct = (np.mean(a_len[idx]) / n) * 100.0\n",
      "/home/Pam/bin/anaconda3/envs/pybedtools/lib/python3.6/site-packages/pybedtools/bedtool.py:2794: FutureWarning: Using a non-tuple sequence for multidimensional indexing is deprecated; use `arr[tuple(seq)]` instead of `arr[seq]`. In the future this will be interpreted as an array index, `arr[np.array(seq)]`, which will result either in an error or a different result.\n",
      "  pct = (np.mean(a_len[idx]) / n) * 100.0\n",
      "/home/Pam/bin/anaconda3/envs/pybedtools/lib/python3.6/site-packages/pybedtools/bedtool.py:2794: FutureWarning: Using a non-tuple sequence for multidimensional indexing is deprecated; use `arr[tuple(seq)]` instead of `arr[seq]`. In the future this will be interpreted as an array index, `arr[np.array(seq)]`, which will result either in an error or a different result.\n",
      "  pct = (np.mean(a_len[idx]) / n) * 100.0\n",
      "/home/Pam/bin/anaconda3/envs/pybedtools/lib/python3.6/site-packages/pybedtools/bedtool.py:2836: RuntimeWarning: divide by zero encountered in double_scalars\n",
      "  normalized = actual / med_count\n",
      "/home/Pam/bin/anaconda3/envs/pybedtools/lib/python3.6/site-packages/pybedtools/bedtool.py:2794: FutureWarning: Using a non-tuple sequence for multidimensional indexing is deprecated; use `arr[tuple(seq)]` instead of `arr[seq]`. In the future this will be interpreted as an array index, `arr[np.array(seq)]`, which will result either in an error or a different result.\n",
      "  pct = (np.mean(a_len[idx]) / n) * 100.0\n",
      "/home/Pam/bin/anaconda3/envs/pybedtools/lib/python3.6/site-packages/pybedtools/bedtool.py:2836: RuntimeWarning: divide by zero encountered in double_scalars\n",
      "  normalized = actual / med_count\n",
      "/home/Pam/bin/anaconda3/envs/pybedtools/lib/python3.6/site-packages/pybedtools/bedtool.py:2794: FutureWarning: Using a non-tuple sequence for multidimensional indexing is deprecated; use `arr[tuple(seq)]` instead of `arr[seq]`. In the future this will be interpreted as an array index, `arr[np.array(seq)]`, which will result either in an error or a different result.\n",
      "  pct = (np.mean(a_len[idx]) / n) * 100.0\n"
     ]
    }
   ],
   "source": [
    "Nara_stats = run_randomstats(files,genomefile,intervalfile)"
   ]
  },
  {
   "cell_type": "code",
   "execution_count": 11,
   "metadata": {},
   "outputs": [
    {
     "data": {
      "text/plain": [
       "{'iterations': 10000,\n",
       " 'actual': 14,\n",
       " 'file_a': '/home/Pam/Plots/repeats_bedops/Nara/Nara.I.Copia.sub.bed.sort.num',\n",
       " 'file_b': '../additional_data/Nara/Nara.accessory.regions.merge.bed',\n",
       " '/home/Pam/Plots/repeats_bedops/Nara/Nara.I.Copia.sub.bed.sort.num': 219,\n",
       " '../additional_data/Nara/Nara.accessory.regions.merge.bed': 27,\n",
       " 'self': 219,\n",
       " 'other': 27,\n",
       " 'frac randomized above actual': 0.0108,\n",
       " 'frac randomized below actual': 0.9766,\n",
       " 'median randomized': 8.0,\n",
       " 'normalized': 1.75,\n",
       " 'percentile': 98.295,\n",
       " 'lower_2.5th': 3.0,\n",
       " 'upper_97.5th': 13.0,\n",
       " 'distribution': array([4, 5, 9, ..., 9, 7, 9])}"
      ]
     },
     "execution_count": 11,
     "metadata": {},
     "output_type": "execute_result"
    }
   ],
   "source": [
    "#Example output\n",
    "Nara_stats[0]"
   ]
  },
  {
   "cell_type": "code",
   "execution_count": 18,
   "metadata": {},
   "outputs": [
    {
     "data": {
      "text/plain": [
       "(array([ 166.,  782., 1688., 2430., 2219., 1541.,  747.,  311.,   90.,\n",
       "          26.]),\n",
       " array([ 0.,  1.,  2.,  3.,  4.,  5.,  6.,  7.,  8.,  9., 10.]),\n",
       " <a list of 10 Patch objects>)"
      ]
     },
     "execution_count": 18,
     "metadata": {},
     "output_type": "execute_result"
    },
    {
     "data": {
      "image/png": "[encoded data removed]",
      "text/plain": [
       "<Figure size 432x288 with 1 Axes>"
      ]
     },
     "metadata": {
      "needs_background": "light"
     },
     "output_type": "display_data"
    }
   ],
   "source": [
    "# Example distribution\n",
    "plt.hist(Nara_stats[9][\"distribution\"], color = 'blue', edgecolor = 'black')"
   ]
  },
  {
   "cell_type": "code",
   "execution_count": 36,
   "metadata": {},
   "outputs": [
    {
     "name": "stderr",
     "output_type": "stream",
     "text": [
      "/home/Pam/bin/anaconda3/envs/pybedtools/lib/python3.6/site-packages/ipykernel_launcher.py:17: SettingWithCopyWarning: \n",
      "A value is trying to be set on a copy of a slice from a DataFrame.\n",
      "Try using .loc[row_indexer,col_indexer] = value instead\n",
      "\n",
      "See the caveats in the documentation: http://pandas.pydata.org/pandas-docs/stable/user_guide/indexing.html#returning-a-view-versus-a-copy\n"
     ]
    }
   ],
   "source": [
    "write_stats(Nara_stats,\"/home/Pam/Plots/repeats_bedops/Nara.stats.csv\")"
   ]
  },
  {
   "cell_type": "code",
   "execution_count": 37,
   "metadata": {},
   "outputs": [
    {
     "data": {
      "text/plain": [
       "['/home/Pam/Plots/repeats_bedops/Nara/Nara.I.Copia.sub.bed.sort.num',\n",
       " '/home/Pam/Plots/repeats_bedops/Nara/Nara.I.Gypsy.sub.bed.sort.num',\n",
       " '/home/Pam/Plots/repeats_bedops/Nara/Nara.II.CACTA.sub.bed.sort.num',\n",
       " '/home/Pam/Plots/repeats_bedops/Nara/Nara.II.hAT.sub.bed.sort.num',\n",
       " '/home/Pam/Plots/repeats_bedops/Nara/Nara.II.Helitron.sub.bed.sort.num',\n",
       " '/home/Pam/Plots/repeats_bedops/Nara/Nara.II.MuDR.sub.bed.sort.num',\n",
       " '/home/Pam/Plots/repeats_bedops/Nara/Nara.II.PiggyBac.sub.bed.sort.num',\n",
       " '/home/Pam/Plots/repeats_bedops/Nara/Nara.II.TcMar.sub.bed.sort.num',\n",
       " '/home/Pam/Plots/repeats_bedops/Nara/Nara.I.LINE.sub.bed.sort.num',\n",
       " '/home/Pam/Plots/repeats_bedops/Nara/Nara.100k.95pc.subtel.renamed.bed.num',\n",
       " '/home/Pam/Plots/repeats_bedops/Nara/Nara.100k.99pc.subtel.renamed.bed.num',\n",
       " '/home/Pam/Plots/repeats_bedops/Nara/Nara.100k.97.5pc.subtel.renamed.bed.num']"
      ]
     },
     "execution_count": 37,
     "metadata": {},
     "output_type": "execute_result"
    }
   ],
   "source": [
    "df = pd.read_csv(\"/home/Pam/Plots/repeats_bedops/Nara.stats.csv\")\n",
    "df[\"file_a\"].to_list()"
   ]
  },
  {
   "cell_type": "code",
   "execution_count": 42,
   "metadata": {},
   "outputs": [
    {
     "data": {
      "image/png": "[encoded data removed]",
      "text/plain": [
       "<Figure size 324x144 with 1 Axes>"
      ]
     },
     "metadata": {},
     "output_type": "display_data"
    }
   ],
   "source": [
    "#Plotting randomstats output\n",
    "\n",
    "#Calculate enrichment score by dividing bootstrapped distribution with the median of the randomized population (what you'd expect by random chance)\n",
    "#This is given as \"normalized\" in randomstats\n",
    "#log is used so 0 is completely random, <0: less than expected at random, >0: greater than expected at random \n",
    "df = pd.read_csv(\"/home/Pam/Plots/repeats_bedops/Nara.stats.csv\")\n",
    "df[\"es_median\"] = np.log2(df[\"normalized\"])\n",
    "\n",
    "df=df.replace([np.inf, -np.inf], np.nan)\n",
    "\n",
    "#Cleaning up of filenames\n",
    "df[\"TE\"]=df[\"file_a\"].str.replace(\".sub.bed.sort.num\",\"\")\n",
    "df[\"TE\"]=df[\"TE\"].str.replace(\"/home/Pam/Plots/repeats_bedops/Nara/Nara.\",\"\")\n",
    "df[\"TE\"]=df[\"TE\"].str.replace(\".renamed.bed.num\",\"\")\n",
    "df[\"TE\"]=df[\"TE\"].str.replace(\"100k.\",\"\")\n",
    "\n",
    "\n",
    "\n",
    "#Plotting enrichment scores of the  major TE classes\n",
    "TEorder = [\"95pc.subtel\",\"I.LINE\",\"I.Copia\",\"I.Gypsy\",\"II.TcMar\"]\n",
    "df = df.set_index(\"TE\").loc[TEorder]\n",
    "\n",
    "figure(num=None, figsize=(4.5,2), facecolor='w', edgecolor='k')\n",
    "\n",
    "\n",
    "plt.style.use('seaborn-ticks')\n",
    "\n",
    "\n",
    "with PdfPages(r'/home/Pam/Plots/repeats_bedops/Nara.accessory.enrichment.pdf') as export_pdf:\n",
    "\n",
    "    plt.scatter(df.index,df[\"es_median\"],color=\"firebrick\")\n",
    "    \n",
    "    plt.ylim(-3,3)\n",
    "    plt.axhline(y=0,alpha=0.5,color=\"r\",linestyle=\"--\")\n",
    "    \n",
    "    export_pdf.savefig()\n",
    "    plt.show()\n",
    "    plt.close()"
   ]
  }
 ],
 "metadata": {
  "kernelspec": {
   "display_name": "Python 3",
   "language": "python",
   "name": "python3"
  },
  "language_info": {
   "codemirror_mode": {
    "name": "ipython",
    "version": 3
   },
   "file_extension": ".py",
   "mimetype": "text/x-python",
   "name": "python",
   "nbconvert_exporter": "python",
   "pygments_lexer": "ipython3",
   "version": "3.6.7"
  }
 },
 "nbformat": 4,
 "nbformat_minor": 2
}
